{
  "nbformat": 4,
  "nbformat_minor": 0,
  "metadata": {
    "colab": {
      "name": "Week2Assignment.ipynb",
      "provenance": [],
      "authorship_tag": "ABX9TyNX4Eg3HYh8k2/Mo1RhUGcb",
      "include_colab_link": true
    },
    "kernelspec": {
      "name": "python3",
      "display_name": "Python 3"
    }
  },
  "cells": [
    {
      "cell_type": "markdown",
      "metadata": {
        "id": "view-in-github",
        "colab_type": "text"
      },
      "source": [
        "<a href=\"https://colab.research.google.com/github/EleonoraCataldo/CA-DataScience-Week1/blob/main/Week2Assignment.ipynb\" target=\"_parent\"><img src=\"https://colab.research.google.com/assets/colab-badge.svg\" alt=\"Open In Colab\"/></a>"
      ]
    },
    {
      "cell_type": "code",
      "metadata": {
        "colab": {
          "base_uri": "https://localhost:8080/"
        },
        "id": "KmQp72vqhj9L",
        "outputId": "140d0f58-ed28-4c9f-9560-edd6d059f362"
      },
      "source": [
        "from google.colab import drive\r\n",
        "drive.mount(\"/content/drive\")"
      ],
      "execution_count": 6,
      "outputs": [
        {
          "output_type": "stream",
          "text": [
            "Mounted at /content/drive\n"
          ],
          "name": "stdout"
        }
      ]
    },
    {
      "cell_type": "code",
      "metadata": {
        "id": "KtXzrU7qkiMU"
      },
      "source": [
        "import pandas as pd"
      ],
      "execution_count": 7,
      "outputs": []
    },
    {
      "cell_type": "code",
      "metadata": {
        "id": "BHWGNU0Ene5W"
      },
      "source": [
        "url= \"https://gist.githubusercontent.com/tiangechen/b68782efa49a16edaf07dc2cdaa855ea/raw/0c794a9717f18b094eabab2cd6a6b9a226903577/movies.csv\"\r\n",
        "dataset= pd.read_csv(url)\r\n",
        "movies= pd.DataFrame(dataset)"
      ],
      "execution_count": 20,
      "outputs": []
    },
    {
      "cell_type": "code",
      "metadata": {
        "colab": {
          "base_uri": "https://localhost:8080/"
        },
        "id": "PMbIYKEqpouP",
        "outputId": "d5723bb8-bd6b-4542-8be3-21e52125bf5b"
      },
      "source": [
        "print(mov)"
      ],
      "execution_count": 18,
      "outputs": [
        {
          "output_type": "stream",
          "text": [
            "                                  Film    Genre  ... Worldwide Gross  Year\n",
            "0           Zack and Miri Make a Porno  Romance  ...         $41.94   2008\n",
            "1                      Youth in Revolt   Comedy  ...         $19.62   2010\n",
            "2   You Will Meet a Tall Dark Stranger   Comedy  ...         $26.66   2010\n",
            "3                         When in Rome   Comedy  ...         $43.04   2010\n",
            "4                What Happens in Vegas   Comedy  ...        $219.37   2008\n",
            "..                                 ...      ...  ...             ...   ...\n",
            "72                 Across the Universe  romance  ...         $29.37   2007\n",
            "73                       A Serious Man    Drama  ...         $30.68   2009\n",
            "74                  A Dangerous Method    Drama  ...          $8.97   2011\n",
            "75                          27 Dresses   Comedy  ...        $160.31   2008\n",
            "76                (500) Days of Summer   comedy  ...         $60.72   2009\n",
            "\n",
            "[77 rows x 8 columns]\n"
          ],
          "name": "stdout"
        }
      ]
    },
    {
      "cell_type": "code",
      "metadata": {
        "colab": {
          "base_uri": "https://localhost:8080/",
          "height": 651
        },
        "id": "4ADzV8c6qP1z",
        "outputId": "f0567aee-e5da-4b02-c707-b6c70072f0ac"
      },
      "source": [
        "#Q1: Can you print the first 10 records.\r\n",
        "movies.loc[0:9]"
      ],
      "execution_count": 31,
      "outputs": [
        {
          "output_type": "execute_result",
          "data": {
            "text/html": [
              "<div>\n",
              "<style scoped>\n",
              "    .dataframe tbody tr th:only-of-type {\n",
              "        vertical-align: middle;\n",
              "    }\n",
              "\n",
              "    .dataframe tbody tr th {\n",
              "        vertical-align: top;\n",
              "    }\n",
              "\n",
              "    .dataframe thead th {\n",
              "        text-align: right;\n",
              "    }\n",
              "</style>\n",
              "<table border=\"1\" class=\"dataframe\">\n",
              "  <thead>\n",
              "    <tr style=\"text-align: right;\">\n",
              "      <th></th>\n",
              "      <th>Film</th>\n",
              "      <th>Genre</th>\n",
              "      <th>Lead Studio</th>\n",
              "      <th>Audience score %</th>\n",
              "      <th>Profitability</th>\n",
              "      <th>Rotten Tomatoes %</th>\n",
              "      <th>Worldwide Gross</th>\n",
              "      <th>Year</th>\n",
              "    </tr>\n",
              "  </thead>\n",
              "  <tbody>\n",
              "    <tr>\n",
              "      <th>0</th>\n",
              "      <td>Zack and Miri Make a Porno</td>\n",
              "      <td>Romance</td>\n",
              "      <td>The Weinstein Company</td>\n",
              "      <td>70</td>\n",
              "      <td>1.747542</td>\n",
              "      <td>64</td>\n",
              "      <td>$41.94</td>\n",
              "      <td>2008</td>\n",
              "    </tr>\n",
              "    <tr>\n",
              "      <th>1</th>\n",
              "      <td>Youth in Revolt</td>\n",
              "      <td>Comedy</td>\n",
              "      <td>The Weinstein Company</td>\n",
              "      <td>52</td>\n",
              "      <td>1.090000</td>\n",
              "      <td>68</td>\n",
              "      <td>$19.62</td>\n",
              "      <td>2010</td>\n",
              "    </tr>\n",
              "    <tr>\n",
              "      <th>2</th>\n",
              "      <td>You Will Meet a Tall Dark Stranger</td>\n",
              "      <td>Comedy</td>\n",
              "      <td>Independent</td>\n",
              "      <td>35</td>\n",
              "      <td>1.211818</td>\n",
              "      <td>43</td>\n",
              "      <td>$26.66</td>\n",
              "      <td>2010</td>\n",
              "    </tr>\n",
              "    <tr>\n",
              "      <th>3</th>\n",
              "      <td>When in Rome</td>\n",
              "      <td>Comedy</td>\n",
              "      <td>Disney</td>\n",
              "      <td>44</td>\n",
              "      <td>0.000000</td>\n",
              "      <td>15</td>\n",
              "      <td>$43.04</td>\n",
              "      <td>2010</td>\n",
              "    </tr>\n",
              "    <tr>\n",
              "      <th>4</th>\n",
              "      <td>What Happens in Vegas</td>\n",
              "      <td>Comedy</td>\n",
              "      <td>Fox</td>\n",
              "      <td>72</td>\n",
              "      <td>6.267647</td>\n",
              "      <td>28</td>\n",
              "      <td>$219.37</td>\n",
              "      <td>2008</td>\n",
              "    </tr>\n",
              "    <tr>\n",
              "      <th>5</th>\n",
              "      <td>Water For Elephants</td>\n",
              "      <td>Drama</td>\n",
              "      <td>20th Century Fox</td>\n",
              "      <td>72</td>\n",
              "      <td>3.081421</td>\n",
              "      <td>60</td>\n",
              "      <td>$117.09</td>\n",
              "      <td>2011</td>\n",
              "    </tr>\n",
              "    <tr>\n",
              "      <th>6</th>\n",
              "      <td>WALL-E</td>\n",
              "      <td>Animation</td>\n",
              "      <td>Disney</td>\n",
              "      <td>89</td>\n",
              "      <td>2.896019</td>\n",
              "      <td>96</td>\n",
              "      <td>$521.28</td>\n",
              "      <td>2008</td>\n",
              "    </tr>\n",
              "    <tr>\n",
              "      <th>7</th>\n",
              "      <td>Waitress</td>\n",
              "      <td>Romance</td>\n",
              "      <td>Independent</td>\n",
              "      <td>67</td>\n",
              "      <td>11.089741</td>\n",
              "      <td>89</td>\n",
              "      <td>$22.18</td>\n",
              "      <td>2007</td>\n",
              "    </tr>\n",
              "    <tr>\n",
              "      <th>8</th>\n",
              "      <td>Waiting For Forever</td>\n",
              "      <td>Romance</td>\n",
              "      <td>Independent</td>\n",
              "      <td>53</td>\n",
              "      <td>0.005000</td>\n",
              "      <td>6</td>\n",
              "      <td>$0.03</td>\n",
              "      <td>2011</td>\n",
              "    </tr>\n",
              "    <tr>\n",
              "      <th>9</th>\n",
              "      <td>Valentine's Day</td>\n",
              "      <td>Comedy</td>\n",
              "      <td>Warner Bros.</td>\n",
              "      <td>54</td>\n",
              "      <td>4.184038</td>\n",
              "      <td>17</td>\n",
              "      <td>$217.57</td>\n",
              "      <td>2010</td>\n",
              "    </tr>\n",
              "  </tbody>\n",
              "</table>\n",
              "</div>"
            ],
            "text/plain": [
              "                                 Film      Genre  ... Worldwide Gross  Year\n",
              "0          Zack and Miri Make a Porno    Romance  ...         $41.94   2008\n",
              "1                     Youth in Revolt     Comedy  ...         $19.62   2010\n",
              "2  You Will Meet a Tall Dark Stranger     Comedy  ...         $26.66   2010\n",
              "3                        When in Rome     Comedy  ...         $43.04   2010\n",
              "4               What Happens in Vegas     Comedy  ...        $219.37   2008\n",
              "5                 Water For Elephants      Drama  ...        $117.09   2011\n",
              "6                              WALL-E  Animation  ...        $521.28   2008\n",
              "7                            Waitress    Romance  ...         $22.18   2007\n",
              "8                 Waiting For Forever    Romance  ...          $0.03   2011\n",
              "9                     Valentine's Day     Comedy  ...        $217.57   2010\n",
              "\n",
              "[10 rows x 8 columns]"
            ]
          },
          "metadata": {
            "tags": []
          },
          "execution_count": 31
        }
      ]
    },
    {
      "cell_type": "code",
      "metadata": {
        "colab": {
          "base_uri": "https://localhost:8080/",
          "height": 651
        },
        "id": "oNj4Cbtzw-_0",
        "outputId": "b964f264-ffa3-47dc-c923-f472f7782f8b"
      },
      "source": [
        "movies.head(10)"
      ],
      "execution_count": 32,
      "outputs": [
        {
          "output_type": "execute_result",
          "data": {
            "text/html": [
              "<div>\n",
              "<style scoped>\n",
              "    .dataframe tbody tr th:only-of-type {\n",
              "        vertical-align: middle;\n",
              "    }\n",
              "\n",
              "    .dataframe tbody tr th {\n",
              "        vertical-align: top;\n",
              "    }\n",
              "\n",
              "    .dataframe thead th {\n",
              "        text-align: right;\n",
              "    }\n",
              "</style>\n",
              "<table border=\"1\" class=\"dataframe\">\n",
              "  <thead>\n",
              "    <tr style=\"text-align: right;\">\n",
              "      <th></th>\n",
              "      <th>Film</th>\n",
              "      <th>Genre</th>\n",
              "      <th>Lead Studio</th>\n",
              "      <th>Audience score %</th>\n",
              "      <th>Profitability</th>\n",
              "      <th>Rotten Tomatoes %</th>\n",
              "      <th>Worldwide Gross</th>\n",
              "      <th>Year</th>\n",
              "    </tr>\n",
              "  </thead>\n",
              "  <tbody>\n",
              "    <tr>\n",
              "      <th>0</th>\n",
              "      <td>Zack and Miri Make a Porno</td>\n",
              "      <td>Romance</td>\n",
              "      <td>The Weinstein Company</td>\n",
              "      <td>70</td>\n",
              "      <td>1.747542</td>\n",
              "      <td>64</td>\n",
              "      <td>$41.94</td>\n",
              "      <td>2008</td>\n",
              "    </tr>\n",
              "    <tr>\n",
              "      <th>1</th>\n",
              "      <td>Youth in Revolt</td>\n",
              "      <td>Comedy</td>\n",
              "      <td>The Weinstein Company</td>\n",
              "      <td>52</td>\n",
              "      <td>1.090000</td>\n",
              "      <td>68</td>\n",
              "      <td>$19.62</td>\n",
              "      <td>2010</td>\n",
              "    </tr>\n",
              "    <tr>\n",
              "      <th>2</th>\n",
              "      <td>You Will Meet a Tall Dark Stranger</td>\n",
              "      <td>Comedy</td>\n",
              "      <td>Independent</td>\n",
              "      <td>35</td>\n",
              "      <td>1.211818</td>\n",
              "      <td>43</td>\n",
              "      <td>$26.66</td>\n",
              "      <td>2010</td>\n",
              "    </tr>\n",
              "    <tr>\n",
              "      <th>3</th>\n",
              "      <td>When in Rome</td>\n",
              "      <td>Comedy</td>\n",
              "      <td>Disney</td>\n",
              "      <td>44</td>\n",
              "      <td>0.000000</td>\n",
              "      <td>15</td>\n",
              "      <td>$43.04</td>\n",
              "      <td>2010</td>\n",
              "    </tr>\n",
              "    <tr>\n",
              "      <th>4</th>\n",
              "      <td>What Happens in Vegas</td>\n",
              "      <td>Comedy</td>\n",
              "      <td>Fox</td>\n",
              "      <td>72</td>\n",
              "      <td>6.267647</td>\n",
              "      <td>28</td>\n",
              "      <td>$219.37</td>\n",
              "      <td>2008</td>\n",
              "    </tr>\n",
              "    <tr>\n",
              "      <th>5</th>\n",
              "      <td>Water For Elephants</td>\n",
              "      <td>Drama</td>\n",
              "      <td>20th Century Fox</td>\n",
              "      <td>72</td>\n",
              "      <td>3.081421</td>\n",
              "      <td>60</td>\n",
              "      <td>$117.09</td>\n",
              "      <td>2011</td>\n",
              "    </tr>\n",
              "    <tr>\n",
              "      <th>6</th>\n",
              "      <td>WALL-E</td>\n",
              "      <td>Animation</td>\n",
              "      <td>Disney</td>\n",
              "      <td>89</td>\n",
              "      <td>2.896019</td>\n",
              "      <td>96</td>\n",
              "      <td>$521.28</td>\n",
              "      <td>2008</td>\n",
              "    </tr>\n",
              "    <tr>\n",
              "      <th>7</th>\n",
              "      <td>Waitress</td>\n",
              "      <td>Romance</td>\n",
              "      <td>Independent</td>\n",
              "      <td>67</td>\n",
              "      <td>11.089741</td>\n",
              "      <td>89</td>\n",
              "      <td>$22.18</td>\n",
              "      <td>2007</td>\n",
              "    </tr>\n",
              "    <tr>\n",
              "      <th>8</th>\n",
              "      <td>Waiting For Forever</td>\n",
              "      <td>Romance</td>\n",
              "      <td>Independent</td>\n",
              "      <td>53</td>\n",
              "      <td>0.005000</td>\n",
              "      <td>6</td>\n",
              "      <td>$0.03</td>\n",
              "      <td>2011</td>\n",
              "    </tr>\n",
              "    <tr>\n",
              "      <th>9</th>\n",
              "      <td>Valentine's Day</td>\n",
              "      <td>Comedy</td>\n",
              "      <td>Warner Bros.</td>\n",
              "      <td>54</td>\n",
              "      <td>4.184038</td>\n",
              "      <td>17</td>\n",
              "      <td>$217.57</td>\n",
              "      <td>2010</td>\n",
              "    </tr>\n",
              "  </tbody>\n",
              "</table>\n",
              "</div>"
            ],
            "text/plain": [
              "                                 Film      Genre  ... Worldwide Gross  Year\n",
              "0          Zack and Miri Make a Porno    Romance  ...         $41.94   2008\n",
              "1                     Youth in Revolt     Comedy  ...         $19.62   2010\n",
              "2  You Will Meet a Tall Dark Stranger     Comedy  ...         $26.66   2010\n",
              "3                        When in Rome     Comedy  ...         $43.04   2010\n",
              "4               What Happens in Vegas     Comedy  ...        $219.37   2008\n",
              "5                 Water For Elephants      Drama  ...        $117.09   2011\n",
              "6                              WALL-E  Animation  ...        $521.28   2008\n",
              "7                            Waitress    Romance  ...         $22.18   2007\n",
              "8                 Waiting For Forever    Romance  ...          $0.03   2011\n",
              "9                     Valentine's Day     Comedy  ...        $217.57   2010\n",
              "\n",
              "[10 rows x 8 columns]"
            ]
          },
          "metadata": {
            "tags": []
          },
          "execution_count": 32
        }
      ]
    },
    {
      "cell_type": "code",
      "metadata": {
        "colab": {
          "base_uri": "https://localhost:8080/"
        },
        "id": "_kGNiShMr-ys",
        "outputId": "5d139c5f-e3dd-4187-cc96-d7a8fd62a11e"
      },
      "source": [
        "#Q2: What are the data types of the columns.\r\n",
        "datatypes= movies.dtypes\r\n",
        "print(datatypes)"
      ],
      "execution_count": 29,
      "outputs": [
        {
          "output_type": "stream",
          "text": [
            "Film                  object\n",
            "Genre                 object\n",
            "Lead Studio           object\n",
            "Audience score %       int64\n",
            "Profitability        float64\n",
            "Rotten Tomatoes %      int64\n",
            "Worldwide Gross       object\n",
            "Year                   int64\n",
            "dtype: object\n"
          ],
          "name": "stdout"
        }
      ]
    },
    {
      "cell_type": "code",
      "metadata": {
        "colab": {
          "base_uri": "https://localhost:8080/"
        },
        "id": "0aQiYwnYu3_d",
        "outputId": "f3e3e747-46f4-4bb4-96fb-7a0eb8f9cce9"
      },
      "source": [
        "#Q3: Count of Animation movies (using the count() function)\r\n",
        "len(movies[movies[\"Genre\"] == 'Animation'])"
      ],
      "execution_count": 42,
      "outputs": [
        {
          "output_type": "execute_result",
          "data": {
            "text/plain": [
              "4"
            ]
          },
          "metadata": {
            "tags": []
          },
          "execution_count": 42
        }
      ]
    },
    {
      "cell_type": "code",
      "metadata": {
        "colab": {
          "base_uri": "https://localhost:8080/",
          "height": 614
        },
        "id": "Wz2QAHm57vqd",
        "outputId": "d20f3fdb-3ba1-401c-d16d-f5abe1de39a5"
      },
      "source": [
        "#Q4: Show the Comedy movies in the year 2007.\r\n",
        "movies[movies['Year']==2007]\r\n"
      ],
      "execution_count": 44,
      "outputs": [
        {
          "output_type": "execute_result",
          "data": {
            "text/html": [
              "<div>\n",
              "<style scoped>\n",
              "    .dataframe tbody tr th:only-of-type {\n",
              "        vertical-align: middle;\n",
              "    }\n",
              "\n",
              "    .dataframe tbody tr th {\n",
              "        vertical-align: top;\n",
              "    }\n",
              "\n",
              "    .dataframe thead th {\n",
              "        text-align: right;\n",
              "    }\n",
              "</style>\n",
              "<table border=\"1\" class=\"dataframe\">\n",
              "  <thead>\n",
              "    <tr style=\"text-align: right;\">\n",
              "      <th></th>\n",
              "      <th>Film</th>\n",
              "      <th>Genre</th>\n",
              "      <th>Lead Studio</th>\n",
              "      <th>Audience score %</th>\n",
              "      <th>Profitability</th>\n",
              "      <th>Rotten Tomatoes %</th>\n",
              "      <th>Worldwide Gross</th>\n",
              "      <th>Year</th>\n",
              "    </tr>\n",
              "  </thead>\n",
              "  <tbody>\n",
              "    <tr>\n",
              "      <th>7</th>\n",
              "      <td>Waitress</td>\n",
              "      <td>Romance</td>\n",
              "      <td>Independent</td>\n",
              "      <td>67</td>\n",
              "      <td>11.089741</td>\n",
              "      <td>89</td>\n",
              "      <td>$22.18</td>\n",
              "      <td>2007</td>\n",
              "    </tr>\n",
              "    <tr>\n",
              "      <th>10</th>\n",
              "      <td>Tyler Perry's Why Did I get Married</td>\n",
              "      <td>Romance</td>\n",
              "      <td>Independent</td>\n",
              "      <td>47</td>\n",
              "      <td>3.724192</td>\n",
              "      <td>46</td>\n",
              "      <td>$55.86</td>\n",
              "      <td>2007</td>\n",
              "    </tr>\n",
              "    <tr>\n",
              "      <th>18</th>\n",
              "      <td>The Heartbreak Kid</td>\n",
              "      <td>Comedy</td>\n",
              "      <td>Paramount</td>\n",
              "      <td>41</td>\n",
              "      <td>2.129444</td>\n",
              "      <td>30</td>\n",
              "      <td>$127.77</td>\n",
              "      <td>2007</td>\n",
              "    </tr>\n",
              "    <tr>\n",
              "      <th>31</th>\n",
              "      <td>P.S. I Love You</td>\n",
              "      <td>Romance</td>\n",
              "      <td>Independent</td>\n",
              "      <td>82</td>\n",
              "      <td>5.103117</td>\n",
              "      <td>21</td>\n",
              "      <td>$153.09</td>\n",
              "      <td>2007</td>\n",
              "    </tr>\n",
              "    <tr>\n",
              "      <th>36</th>\n",
              "      <td>No Reservations</td>\n",
              "      <td>Comedy</td>\n",
              "      <td>Warner Bros.</td>\n",
              "      <td>64</td>\n",
              "      <td>3.307180</td>\n",
              "      <td>39</td>\n",
              "      <td>$92.60</td>\n",
              "      <td>2007</td>\n",
              "    </tr>\n",
              "    <tr>\n",
              "      <th>40</th>\n",
              "      <td>Music and Lyrics</td>\n",
              "      <td>Romance</td>\n",
              "      <td>Warner Bros.</td>\n",
              "      <td>70</td>\n",
              "      <td>3.647411</td>\n",
              "      <td>63</td>\n",
              "      <td>$145.90</td>\n",
              "      <td>2007</td>\n",
              "    </tr>\n",
              "    <tr>\n",
              "      <th>51</th>\n",
              "      <td>License to Wed</td>\n",
              "      <td>Comedy</td>\n",
              "      <td>Warner Bros.</td>\n",
              "      <td>55</td>\n",
              "      <td>1.980206</td>\n",
              "      <td>8</td>\n",
              "      <td>$69.31</td>\n",
              "      <td>2007</td>\n",
              "    </tr>\n",
              "    <tr>\n",
              "      <th>54</th>\n",
              "      <td>Knocked Up</td>\n",
              "      <td>Comedy</td>\n",
              "      <td>Universal</td>\n",
              "      <td>83</td>\n",
              "      <td>6.636402</td>\n",
              "      <td>91</td>\n",
              "      <td>$219</td>\n",
              "      <td>2007</td>\n",
              "    </tr>\n",
              "    <tr>\n",
              "      <th>62</th>\n",
              "      <td>Good Luck Chuck</td>\n",
              "      <td>Comedy</td>\n",
              "      <td>Lionsgate</td>\n",
              "      <td>61</td>\n",
              "      <td>2.367685</td>\n",
              "      <td>3</td>\n",
              "      <td>$59.19</td>\n",
              "      <td>2007</td>\n",
              "    </tr>\n",
              "    <tr>\n",
              "      <th>69</th>\n",
              "      <td>Enchanted</td>\n",
              "      <td>Comedy</td>\n",
              "      <td>Disney</td>\n",
              "      <td>80</td>\n",
              "      <td>4.005737</td>\n",
              "      <td>93</td>\n",
              "      <td>$340.49</td>\n",
              "      <td>2007</td>\n",
              "    </tr>\n",
              "    <tr>\n",
              "      <th>72</th>\n",
              "      <td>Across the Universe</td>\n",
              "      <td>romance</td>\n",
              "      <td>Independent</td>\n",
              "      <td>84</td>\n",
              "      <td>0.652603</td>\n",
              "      <td>54</td>\n",
              "      <td>$29.37</td>\n",
              "      <td>2007</td>\n",
              "    </tr>\n",
              "  </tbody>\n",
              "</table>\n",
              "</div>"
            ],
            "text/plain": [
              "                                   Film    Genre  ... Worldwide Gross  Year\n",
              "7                              Waitress  Romance  ...         $22.18   2007\n",
              "10  Tyler Perry's Why Did I get Married  Romance  ...         $55.86   2007\n",
              "18                   The Heartbreak Kid   Comedy  ...        $127.77   2007\n",
              "31                      P.S. I Love You  Romance  ...        $153.09   2007\n",
              "36                      No Reservations   Comedy  ...         $92.60   2007\n",
              "40                     Music and Lyrics  Romance  ...        $145.90   2007\n",
              "51                       License to Wed   Comedy  ...         $69.31   2007\n",
              "54                           Knocked Up   Comedy  ...           $219   2007\n",
              "62                      Good Luck Chuck   Comedy  ...         $59.19   2007\n",
              "69                            Enchanted   Comedy  ...        $340.49   2007\n",
              "72                  Across the Universe  romance  ...         $29.37   2007\n",
              "\n",
              "[11 rows x 8 columns]"
            ]
          },
          "metadata": {
            "tags": []
          },
          "execution_count": 44
        }
      ]
    },
    {
      "cell_type": "code",
      "metadata": {
        "colab": {
          "base_uri": "https://localhost:8080/"
        },
        "id": "4_y0zNkl8RkN",
        "outputId": "050984e8-e91a-4d49-e2f1-73ae91c446b6"
      },
      "source": [
        "#Q5: Count of Animation movies with more than 70% Audience Score.\r\n",
        "len(movies[movies[\"Audience score %\"]>70])\r\n"
      ],
      "execution_count": 46,
      "outputs": [
        {
          "output_type": "execute_result",
          "data": {
            "text/plain": [
              "25"
            ]
          },
          "metadata": {
            "tags": []
          },
          "execution_count": 46
        }
      ]
    },
    {
      "cell_type": "code",
      "metadata": {
        "colab": {
          "base_uri": "https://localhost:8080/",
          "height": 394
        },
        "id": "3KNTaDiI84_G",
        "outputId": "513fadcf-135b-4d22-e6db-3e123fd954bc"
      },
      "source": [
        "#Q6: Show the list of top 5 movies based on profitability.\r\n",
        "movies.sort_values(by=[\"Profitability\"], inplace=True, ascending=False)\r\n",
        "movies.head(5)"
      ],
      "execution_count": 50,
      "outputs": [
        {
          "output_type": "execute_result",
          "data": {
            "text/html": [
              "<div>\n",
              "<style scoped>\n",
              "    .dataframe tbody tr th:only-of-type {\n",
              "        vertical-align: middle;\n",
              "    }\n",
              "\n",
              "    .dataframe tbody tr th {\n",
              "        vertical-align: top;\n",
              "    }\n",
              "\n",
              "    .dataframe thead th {\n",
              "        text-align: right;\n",
              "    }\n",
              "</style>\n",
              "<table border=\"1\" class=\"dataframe\">\n",
              "  <thead>\n",
              "    <tr style=\"text-align: right;\">\n",
              "      <th></th>\n",
              "      <th>Film</th>\n",
              "      <th>Genre</th>\n",
              "      <th>Lead Studio</th>\n",
              "      <th>Audience score %</th>\n",
              "      <th>Profitability</th>\n",
              "      <th>Rotten Tomatoes %</th>\n",
              "      <th>Worldwide Gross</th>\n",
              "      <th>Year</th>\n",
              "    </tr>\n",
              "  </thead>\n",
              "  <tbody>\n",
              "    <tr>\n",
              "      <th>68</th>\n",
              "      <td>Fireproof</td>\n",
              "      <td>Drama</td>\n",
              "      <td>Independent</td>\n",
              "      <td>51</td>\n",
              "      <td>66.934000</td>\n",
              "      <td>40</td>\n",
              "      <td>$33.47</td>\n",
              "      <td>2008</td>\n",
              "    </tr>\n",
              "    <tr>\n",
              "      <th>60</th>\n",
              "      <td>High School Musical 3: Senior Year</td>\n",
              "      <td>Comedy</td>\n",
              "      <td>Disney</td>\n",
              "      <td>76</td>\n",
              "      <td>22.913136</td>\n",
              "      <td>65</td>\n",
              "      <td>$252.04</td>\n",
              "      <td>2008</td>\n",
              "    </tr>\n",
              "    <tr>\n",
              "      <th>14</th>\n",
              "      <td>The Twilight Saga: New Moon</td>\n",
              "      <td>Drama</td>\n",
              "      <td>Summit</td>\n",
              "      <td>78</td>\n",
              "      <td>14.196400</td>\n",
              "      <td>27</td>\n",
              "      <td>$709.82</td>\n",
              "      <td>2009</td>\n",
              "    </tr>\n",
              "    <tr>\n",
              "      <th>7</th>\n",
              "      <td>Waitress</td>\n",
              "      <td>Romance</td>\n",
              "      <td>Independent</td>\n",
              "      <td>67</td>\n",
              "      <td>11.089741</td>\n",
              "      <td>89</td>\n",
              "      <td>$22.18</td>\n",
              "      <td>2007</td>\n",
              "    </tr>\n",
              "    <tr>\n",
              "      <th>12</th>\n",
              "      <td>Twilight</td>\n",
              "      <td>Romance</td>\n",
              "      <td>Summit</td>\n",
              "      <td>82</td>\n",
              "      <td>10.180027</td>\n",
              "      <td>49</td>\n",
              "      <td>$376.66</td>\n",
              "      <td>2008</td>\n",
              "    </tr>\n",
              "  </tbody>\n",
              "</table>\n",
              "</div>"
            ],
            "text/plain": [
              "                                  Film    Genre  ... Worldwide Gross  Year\n",
              "68                           Fireproof    Drama  ...         $33.47   2008\n",
              "60  High School Musical 3: Senior Year   Comedy  ...        $252.04   2008\n",
              "14         The Twilight Saga: New Moon    Drama  ...        $709.82   2009\n",
              "7                             Waitress  Romance  ...         $22.18   2007\n",
              "12                            Twilight  Romance  ...        $376.66   2008\n",
              "\n",
              "[5 rows x 8 columns]"
            ]
          },
          "metadata": {
            "tags": []
          },
          "execution_count": 50
        }
      ]
    },
    {
      "cell_type": "code",
      "metadata": {
        "id": "EWIOBQze--d4"
      },
      "source": [
        "#Q7: Show the top 5 Comedy movies approved by the audience (Audience Score)\r\n"
      ],
      "execution_count": 69,
      "outputs": []
    },
    {
      "cell_type": "code",
      "metadata": {
        "id": "VJAuUrJeBr-q"
      },
      "source": [
        ""
      ],
      "execution_count": null,
      "outputs": []
    }
  ]
}