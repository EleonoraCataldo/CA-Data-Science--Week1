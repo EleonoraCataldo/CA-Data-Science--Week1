{
  "nbformat": 4,
  "nbformat_minor": 0,
  "metadata": {
    "colab": {
      "name": "Week1Assignment.ipynb",
      "provenance": [],
      "collapsed_sections": [],
      "authorship_tag": "ABX9TyO5aIIX2LnkQMZzfkbYieLT",
      "include_colab_link": true
    },
    "kernelspec": {
      "name": "python3",
      "display_name": "Python 3"
    }
  },
  "cells": [
    {
      "cell_type": "markdown",
      "metadata": {
        "id": "view-in-github",
        "colab_type": "text"
      },
      "source": [
        "<a href=\"https://colab.research.google.com/github/EleonoraCataldo/CA-DataScience-Week1/blob/main/Week1Assignment.ipynb\" target=\"_parent\"><img src=\"https://colab.research.google.com/assets/colab-badge.svg\" alt=\"Open In Colab\"/></a>"
      ]
    },
    {
      "cell_type": "code",
      "metadata": {
        "id": "UEFlMY-akpSC"
      },
      "source": [
        "#Q1: Write a function that returns the age of customers, given their year of birth.\r\n",
        "\r\n",
        "def count_age(years):\r\n",
        "  age=[]\r\n",
        "  for i in years:\r\n",
        "    age.append(2021-i)\r\n",
        "  return(age)"
      ],
      "execution_count": 65,
      "outputs": []
    },
    {
      "cell_type": "code",
      "metadata": {
        "colab": {
          "base_uri": "https://localhost:8080/"
        },
        "id": "pPPmmK2HleRp",
        "outputId": "15291649-18dd-4f30-d4ff-192a26451a0c"
      },
      "source": [
        "#Q1: Example output\r\n",
        "\r\n",
        "years=[1999, 1995, 2005, 2010, 2007, 2006, 1994, 1996, 1979, 2008]\r\n",
        "\r\n",
        "count_age(years)"
      ],
      "execution_count": 11,
      "outputs": [
        {
          "output_type": "execute_result",
          "data": {
            "text/plain": [
              "[22, 26, 16, 11, 14, 15, 27, 25, 42, 13]"
            ]
          },
          "metadata": {
            "tags": []
          },
          "execution_count": 11
        }
      ]
    },
    {
      "cell_type": "code",
      "metadata": {
        "id": "cceMoz7WggR1"
      },
      "source": [
        "#Q2: Write a function that removes the outliers (the oldest and youngest person’s age)\r\n",
        "\r\n",
        "def remove_outliers(x):\r\n",
        "  target_group=[]\r\n",
        "  ages = count_age(x)\r\n",
        "  for i in ages: \r\n",
        "    if max(ages)>i>min(ages):\r\n",
        "      target_group.append(i)\r\n",
        "    else:\r\n",
        "      pass\r\n",
        "  return(target_group)"
      ],
      "execution_count": 76,
      "outputs": []
    },
    {
      "cell_type": "code",
      "metadata": {
        "id": "G_RBJr9rsW82"
      },
      "source": [
        "#Q2: Write a function that removes the outliers (the oldest and youngest person’s age)\r\n",
        "\r\n",
        "#def remove_outliers(x):\r\n",
        "  target_group=[]\r\n",
        "  count_age(x)\r\n",
        "  for i in count_age(x): \r\n",
        "    if max(count_age(x))>i>min(count_age(x)):\r\n",
        "      target_group.append(i)\r\n",
        "    else:\r\n",
        "      pass\r\n",
        "  return(target_group)"
      ],
      "execution_count": 34,
      "outputs": []
    },
    {
      "cell_type": "code",
      "metadata": {
        "colab": {
          "base_uri": "https://localhost:8080/"
        },
        "id": "8qe9TqqDoRXk",
        "outputId": "5ae76b86-07bd-4394-f787-74b93ffd6d3d"
      },
      "source": [
        "#Q2: Example output\r\n",
        "\r\n",
        "remove_outliers(years)"
      ],
      "execution_count": 77,
      "outputs": [
        {
          "output_type": "execute_result",
          "data": {
            "text/plain": [
              "[22, 26, 16, 14, 15, 27, 25, 13]"
            ]
          },
          "metadata": {
            "tags": []
          },
          "execution_count": 77
        }
      ]
    },
    {
      "cell_type": "code",
      "metadata": {
        "id": "dAoO12HghHFO"
      },
      "source": [
        "#Q3: Write a function that takes 2 lists as input and returns the common age values. \r\n",
        "\r\n",
        "def common_ages(agelist1, agelist2):\r\n",
        "  common_age=[]\r\n",
        "  for i in agelist1: \r\n",
        "    if i in agelist2:\r\n",
        "      common_age.append(i)\r\n",
        "    else:\r\n",
        "      pass\r\n",
        "  return(common_age)\r\n",
        "  "
      ],
      "execution_count": 37,
      "outputs": []
    },
    {
      "cell_type": "code",
      "metadata": {
        "colab": {
          "base_uri": "https://localhost:8080/"
        },
        "id": "ErZfmAHXytQH",
        "outputId": "d59caace-ddbe-42cc-d858-f46221bf4ffe"
      },
      "source": [
        "#Q3: Example Output\r\n",
        "\r\n",
        "berlin = [15, 13, 16, 18, 19, 10, 12 ]\r\n",
        "munich = [7, 13, 15, 20, 19, 18, 10, 16]\r\n",
        "\r\n",
        "common_ages(berlin, munich)"
      ],
      "execution_count": 38,
      "outputs": [
        {
          "output_type": "execute_result",
          "data": {
            "text/plain": [
              "[15, 13, 16, 18, 19, 10]"
            ]
          },
          "metadata": {
            "tags": []
          },
          "execution_count": 38
        }
      ]
    },
    {
      "cell_type": "code",
      "metadata": {
        "id": "4YslcTACngfH"
      },
      "source": [
        "#Q4: Write a function that takes a list with duplicate values as input and returns the list with unique age values.  \r\n",
        "\r\n",
        "def delete_duplicates(x):\r\n",
        "  no_dupes=[]\r\n",
        "  for i in x:\r\n",
        "    if i not in no_dupes:\r\n",
        "      no_dupes.append(i)\r\n",
        "    else:\r\n",
        "      pass\r\n",
        "  return(no_dupes)\r\n"
      ],
      "execution_count": 44,
      "outputs": []
    },
    {
      "cell_type": "code",
      "metadata": {
        "colab": {
          "base_uri": "https://localhost:8080/"
        },
        "id": "GlalaMNyu052",
        "outputId": "511791b0-5716-43b7-b469-a196593b0d41"
      },
      "source": [
        "#Q4: Example output\r\n",
        "\r\n",
        "sample= [15,13,16,18,19,15,10]\r\n",
        "\r\n",
        "delete_duplicates(sample)"
      ],
      "execution_count": 45,
      "outputs": [
        {
          "output_type": "execute_result",
          "data": {
            "text/plain": [
              "[15, 13, 16, 18, 19, 10]"
            ]
          },
          "metadata": {
            "tags": []
          },
          "execution_count": 45
        }
      ]
    },
    {
      "cell_type": "code",
      "metadata": {
        "id": "sEmtzcCwu3Un"
      },
      "source": [
        "#Q5: Write a function that takes an input list and value of age to find as input and return true or false if the age value is present or not.\r\n",
        "#First approach \r\n",
        "\r\n",
        "def find_value_1(x):\r\n",
        "  if x[-1] in x[0]:\r\n",
        "    return(True)\r\n",
        "  else:\r\n",
        "    return(False)"
      ],
      "execution_count": 95,
      "outputs": []
    },
    {
      "cell_type": "code",
      "metadata": {
        "colab": {
          "base_uri": "https://localhost:8080/"
        },
        "id": "EkWQI0vL4GL5",
        "outputId": "7f828e0b-ab8e-4e5e-82d6-ced65e71615a"
      },
      "source": [
        "#Q5: Example output\r\n",
        "\r\n",
        "sample=[15,13,16,18,19,15,10,15], 15\r\n",
        "\r\n",
        "find_value_1(sample)"
      ],
      "execution_count": 96,
      "outputs": [
        {
          "output_type": "execute_result",
          "data": {
            "text/plain": [
              "True"
            ]
          },
          "metadata": {
            "tags": []
          },
          "execution_count": 96
        }
      ]
    },
    {
      "cell_type": "code",
      "metadata": {
        "id": "MR6RefRC5K5J"
      },
      "source": [
        "#Q5: Second approach\r\n",
        "            \r\n",
        "def find_value(x,y):\r\n",
        "  if y in x:\r\n",
        "    return(True)\r\n",
        "  else:\r\n",
        "    return(False)"
      ],
      "execution_count": 85,
      "outputs": []
    },
    {
      "cell_type": "code",
      "metadata": {
        "colab": {
          "base_uri": "https://localhost:8080/"
        },
        "id": "Kyn4RyTn5S_7",
        "outputId": "8c55a7d8-50cf-4e95-f103-2baeef221c32"
      },
      "source": [
        "#Q5: Example output\r\n",
        "\r\n",
        "find_value([15,13,16,18,19,15,10], 15)"
      ],
      "execution_count": 62,
      "outputs": [
        {
          "output_type": "execute_result",
          "data": {
            "text/plain": [
              "False"
            ]
          },
          "metadata": {
            "tags": []
          },
          "execution_count": 62
        }
      ]
    },
    {
      "cell_type": "code",
      "metadata": {
        "id": "nBSwp1LW9hpO"
      },
      "source": [
        ""
      ],
      "execution_count": null,
      "outputs": []
    }
  ]
}