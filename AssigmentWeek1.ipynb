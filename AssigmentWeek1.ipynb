{
  "nbformat": 4,
  "nbformat_minor": 0,
  "metadata": {
    "colab": {
      "name": "Untitled1.ipynb",
      "provenance": [],
      "authorship_tag": "ABX9TyPVKED6J0w7SjxX+VjcY464",
      "include_colab_link": true
    },
    "kernelspec": {
      "name": "python3",
      "display_name": "Python 3"
    }
  },
  "cells": [
    {
      "cell_type": "markdown",
      "metadata": {
        "id": "view-in-github",
        "colab_type": "text"
      },
      "source": [
        "<a href=\"https://colab.research.google.com/github/EleonoraCataldo/CA-DataScience-Week1/blob/main/AssigmentWeek1.ipynb\" target=\"_parent\"><img src=\"https://colab.research.google.com/assets/colab-badge.svg\" alt=\"Open In Colab\"/></a>"
      ]
    },
    {
      "cell_type": "code",
      "metadata": {
        "colab": {
          "base_uri": "https://localhost:8080/"
        },
        "id": "UEFlMY-akpSC",
        "outputId": "78393953-9a25-4346-be9f-a65cd9cfe63c"
      },
      "source": [
        "years=[1999, 1995, 2005, 2010, 2007, 2006, 1994, 1996, 1979, 2008]\r\n",
        "age=[]\r\n",
        "for i in years: \r\n",
        "  age.append(2021-i)\r\n",
        "print(age)"
      ],
      "execution_count": 3,
      "outputs": [
        {
          "output_type": "stream",
          "text": [
            "[22, 26, 16, 11, 14, 15, 27, 25, 42, 13]\n"
          ],
          "name": "stdout"
        }
      ]
    },
    {
      "cell_type": "code",
      "metadata": {
        "colab": {
          "base_uri": "https://localhost:8080/"
        },
        "id": "cceMoz7WggR1",
        "outputId": "fa05cec9-7de9-4e87-877b-2e40baf8cc82"
      },
      "source": [
        "target_group=[]\r\n",
        "for i in age: \r\n",
        "  if max(age)>i>min(age):\r\n",
        "    target_group.append(i)\r\n",
        "  else:\r\n",
        "    pass\r\n",
        "print(target_group)"
      ],
      "execution_count": 14,
      "outputs": [
        {
          "output_type": "stream",
          "text": [
            "[22, 26, 16, 14, 15, 27, 25, 13]\n"
          ],
          "name": "stdout"
        }
      ]
    },
    {
      "cell_type": "code",
      "metadata": {
        "colab": {
          "base_uri": "https://localhost:8080/"
        },
        "id": "dAoO12HghHFO",
        "outputId": "d454a14f-8608-496b-c2bf-22a4860f0366"
      },
      "source": [
        "berlin = [15, 13, 16, 18, 19, 10, 12 ]\r\n",
        "munich = [7, 13, 15, 20, 19, 18, 10, 16]\r\n",
        "newlist=[berlin, munich]\r\n",
        "print(newlist)"
      ],
      "execution_count": 22,
      "outputs": [
        {
          "output_type": "stream",
          "text": [
            "[[15, 13, 16, 18, 19, 10, 12], [7, 13, 15, 20, 19, 18, 10, 16]]\n"
          ],
          "name": "stdout"
        }
      ]
    },
    {
      "cell_type": "code",
      "metadata": {
        "colab": {
          "base_uri": "https://localhost:8080/"
        },
        "id": "4YslcTACngfH",
        "outputId": "7eea16c3-4437-47f9-abfd-19989c3282ac"
      },
      "source": [
        "for i in newlist: \r\n",
        "  "
      ],
      "execution_count": 23,
      "outputs": [
        {
          "output_type": "execute_result",
          "data": {
            "text/plain": [
              "list"
            ]
          },
          "metadata": {
            "tags": []
          },
          "execution_count": 23
        }
      ]
    }
  ]
}